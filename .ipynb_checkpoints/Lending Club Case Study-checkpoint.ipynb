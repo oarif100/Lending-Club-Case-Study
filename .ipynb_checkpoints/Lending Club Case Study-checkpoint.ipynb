{
 "cells": [
  {
   "cell_type": "code",
   "execution_count": 1,
   "metadata": {
    "collapsed": true
   },
   "outputs": [],
   "source": [
    "# import necessary libraries\n",
    "import numpy as np\n",
    "import pandas as pd\n",
    "import matplotlib\n",
    "import matplotlib.pyplot as plt\n",
    "from sklearn.linear_model import LogisticRegressionCV\n",
    "import sklearn.metrics as metrics\n",
    "from sklearn.preprocessing import PolynomialFeatures\n",
    "from sklearn.discriminant_analysis import LinearDiscriminantAnalysis\n",
    "from sklearn.discriminant_analysis import QuadraticDiscriminantAnalysis\n",
    "from sklearn.linear_model import LinearRegression\n",
    "from sklearn.neighbors import KNeighborsClassifier\n",
    "from sklearn.tree import DecisionTreeClassifier\n",
    "from sklearn.model_selection import cross_val_score\n",
    "from sklearn.metrics import accuracy_score\n",
    "from sklearn.metrics import confusion_matrix\n",
    "from sklearn.preprocessing import Imputer\n",
    "from sklearn.metrics import mean_squared_error\n",
    "\n",
    "from sklearn.tree import export_graphviz\n",
    "from IPython.display import Image\n",
    "from IPython.display import display\n",
    "%matplotlib inline"
   ]
  },
  {
   "cell_type": "code",
   "execution_count": 2,
   "metadata": {},
   "outputs": [
    {
     "name": "stderr",
     "output_type": "stream",
     "text": [
      "C:\\ProgramData\\OWTools\\miniconda\\lib\\site-packages\\IPython\\core\\interactiveshell.py:2698: DtypeWarning: Columns (19,47,55,112,123,124,125,128,129,130,133,139,140,141) have mixed types. Specify dtype option on import or set low_memory=False.\n",
      "  interactivity=interactivity, compiler=compiler, result=result)\n"
     ]
    },
    {
     "data": {
      "text/plain": [
       "(2260668, 145)"
      ]
     },
     "execution_count": 2,
     "metadata": {},
     "output_type": "execute_result"
    }
   ],
   "source": [
    "# read in data\n",
    "raw_loan_data = pd.read_csv('loan.csv')\n",
    "raw_loan_data.shape"
   ]
  },
  {
   "cell_type": "code",
   "execution_count": 3,
   "metadata": {
    "collapsed": true
   },
   "outputs": [],
   "source": [
    "# filter for relevant columns\n",
    "relevant_cols = ['loan_amnt', 'funded_amnt', 'term', 'int_rate', 'grade', 'annual_inc', 'issue_d', 'dti', 'revol_bal', 'total_pymnt', 'loan_status']\n",
    "# save filtered data to avoid reading large raw data file again\n",
    "raw_loan_data[relevant_cols].to_csv('filtered_loan_data.csv', index = False)"
   ]
  },
  {
   "cell_type": "code",
   "execution_count": 6,
   "metadata": {
    "collapsed": true
   },
   "outputs": [],
   "source": [
    "# read in filtered data\n",
    "filtered_loan_data = pd.read_csv('filtered_loan_data.csv')"
   ]
  },
  {
   "cell_type": "code",
   "execution_count": 7,
   "metadata": {},
   "outputs": [
    {
     "data": {
      "text/plain": [
       "(2260668, 11)"
      ]
     },
     "execution_count": 7,
     "metadata": {},
     "output_type": "execute_result"
    }
   ],
   "source": [
    "# sanity check that number of rows has remained constant in filtering\n",
    "filtered_loan_data.shape"
   ]
  },
  {
   "cell_type": "code",
   "execution_count": 5,
   "metadata": {},
   "outputs": [
    {
     "data": {
      "text/html": [
       "<div>\n",
       "<style>\n",
       "    .dataframe thead tr:only-child th {\n",
       "        text-align: right;\n",
       "    }\n",
       "\n",
       "    .dataframe thead th {\n",
       "        text-align: left;\n",
       "    }\n",
       "\n",
       "    .dataframe tbody tr th {\n",
       "        vertical-align: top;\n",
       "    }\n",
       "</style>\n",
       "<table border=\"1\" class=\"dataframe\">\n",
       "  <thead>\n",
       "    <tr style=\"text-align: right;\">\n",
       "      <th></th>\n",
       "      <th>loan_amnt</th>\n",
       "      <th>funded_amnt</th>\n",
       "      <th>term</th>\n",
       "      <th>int_rate</th>\n",
       "      <th>grade</th>\n",
       "      <th>annual_inc</th>\n",
       "      <th>issue_d</th>\n",
       "      <th>dti</th>\n",
       "      <th>revol_bal</th>\n",
       "      <th>total_pymnt</th>\n",
       "      <th>loan_status</th>\n",
       "    </tr>\n",
       "  </thead>\n",
       "  <tbody>\n",
       "    <tr>\n",
       "      <th>0</th>\n",
       "      <td>2500</td>\n",
       "      <td>2500</td>\n",
       "      <td>36 months</td>\n",
       "      <td>13.56</td>\n",
       "      <td>C</td>\n",
       "      <td>55000.0</td>\n",
       "      <td>Dec-2018</td>\n",
       "      <td>18.24</td>\n",
       "      <td>4341</td>\n",
       "      <td>167.02</td>\n",
       "      <td>Current</td>\n",
       "    </tr>\n",
       "    <tr>\n",
       "      <th>1</th>\n",
       "      <td>30000</td>\n",
       "      <td>30000</td>\n",
       "      <td>60 months</td>\n",
       "      <td>18.94</td>\n",
       "      <td>D</td>\n",
       "      <td>90000.0</td>\n",
       "      <td>Dec-2018</td>\n",
       "      <td>26.52</td>\n",
       "      <td>12315</td>\n",
       "      <td>1507.11</td>\n",
       "      <td>Current</td>\n",
       "    </tr>\n",
       "    <tr>\n",
       "      <th>2</th>\n",
       "      <td>5000</td>\n",
       "      <td>5000</td>\n",
       "      <td>36 months</td>\n",
       "      <td>17.97</td>\n",
       "      <td>D</td>\n",
       "      <td>59280.0</td>\n",
       "      <td>Dec-2018</td>\n",
       "      <td>10.51</td>\n",
       "      <td>4599</td>\n",
       "      <td>353.89</td>\n",
       "      <td>Current</td>\n",
       "    </tr>\n",
       "    <tr>\n",
       "      <th>3</th>\n",
       "      <td>4000</td>\n",
       "      <td>4000</td>\n",
       "      <td>36 months</td>\n",
       "      <td>18.94</td>\n",
       "      <td>D</td>\n",
       "      <td>92000.0</td>\n",
       "      <td>Dec-2018</td>\n",
       "      <td>16.74</td>\n",
       "      <td>5468</td>\n",
       "      <td>286.71</td>\n",
       "      <td>Current</td>\n",
       "    </tr>\n",
       "    <tr>\n",
       "      <th>4</th>\n",
       "      <td>30000</td>\n",
       "      <td>30000</td>\n",
       "      <td>60 months</td>\n",
       "      <td>16.14</td>\n",
       "      <td>C</td>\n",
       "      <td>57250.0</td>\n",
       "      <td>Dec-2018</td>\n",
       "      <td>26.35</td>\n",
       "      <td>829</td>\n",
       "      <td>1423.21</td>\n",
       "      <td>Current</td>\n",
       "    </tr>\n",
       "  </tbody>\n",
       "</table>\n",
       "</div>"
      ],
      "text/plain": [
       "   loan_amnt  funded_amnt        term  int_rate grade  annual_inc   issue_d  \\\n",
       "0       2500         2500   36 months     13.56     C     55000.0  Dec-2018   \n",
       "1      30000        30000   60 months     18.94     D     90000.0  Dec-2018   \n",
       "2       5000         5000   36 months     17.97     D     59280.0  Dec-2018   \n",
       "3       4000         4000   36 months     18.94     D     92000.0  Dec-2018   \n",
       "4      30000        30000   60 months     16.14     C     57250.0  Dec-2018   \n",
       "\n",
       "     dti  revol_bal  total_pymnt loan_status  \n",
       "0  18.24       4341       167.02     Current  \n",
       "1  26.52      12315      1507.11     Current  \n",
       "2  10.51       4599       353.89     Current  \n",
       "3  16.74       5468       286.71     Current  \n",
       "4  26.35        829      1423.21     Current  "
      ]
     },
     "execution_count": 5,
     "metadata": {},
     "output_type": "execute_result"
    }
   ],
   "source": [
    "# preview filtered data\n",
    "filtered_loan_data.head()"
   ]
  },
  {
   "cell_type": "markdown",
   "metadata": {},
   "source": [
    "# Part 1: Data Exploration and Evaluation"
   ]
  },
  {
   "cell_type": "markdown",
   "metadata": {},
   "source": [
    "We begin by data exploration and evaluation by cleaning the data before processing\n",
    "1. Identifying any non-numeric types (either due to formatting errors or being categorical)\n",
    "2. Coding categorical variables as dummy variables for analysis\n",
    "3. Checking for missing values\n",
    "4. Checking for outliers\n",
    "5. Standardizing the data"
   ]
  },
  {
   "cell_type": "code",
   "execution_count": 11,
   "metadata": {},
   "outputs": [
    {
     "data": {
      "text/plain": [
       "loan_amnt        int64\n",
       "funded_amnt      int64\n",
       "term            object\n",
       "int_rate       float64\n",
       "grade           object\n",
       "annual_inc     float64\n",
       "issue_d         object\n",
       "dti            float64\n",
       "revol_bal        int64\n",
       "total_pymnt    float64\n",
       "loan_status     object\n",
       "dtype: object"
      ]
     },
     "execution_count": 11,
     "metadata": {},
     "output_type": "execute_result"
    }
   ],
   "source": [
    "# data cleaning\n",
    "## step 1 - identify non-numeric types\n",
    "filtered_loan_data.dtypes"
   ]
  },
  {
   "cell_type": "code",
   "execution_count": null,
   "metadata": {
    "collapsed": true
   },
   "outputs": [],
   "source": []
  },
  {
   "cell_type": "code",
   "execution_count": 10,
   "metadata": {},
   "outputs": [
    {
     "data": {
      "text/html": [
       "<div>\n",
       "<style>\n",
       "    .dataframe thead tr:only-child th {\n",
       "        text-align: right;\n",
       "    }\n",
       "\n",
       "    .dataframe thead th {\n",
       "        text-align: left;\n",
       "    }\n",
       "\n",
       "    .dataframe tbody tr th {\n",
       "        vertical-align: top;\n",
       "    }\n",
       "</style>\n",
       "<table border=\"1\" class=\"dataframe\">\n",
       "  <thead>\n",
       "    <tr style=\"text-align: right;\">\n",
       "      <th></th>\n",
       "      <th>loan_amnt</th>\n",
       "      <th>funded_amnt</th>\n",
       "      <th>int_rate</th>\n",
       "      <th>annual_inc</th>\n",
       "      <th>dti</th>\n",
       "      <th>revol_bal</th>\n",
       "      <th>total_pymnt</th>\n",
       "    </tr>\n",
       "  </thead>\n",
       "  <tbody>\n",
       "    <tr>\n",
       "      <th>count</th>\n",
       "      <td>2.26067e+06</td>\n",
       "      <td>2.26067e+06</td>\n",
       "      <td>2.26067e+06</td>\n",
       "      <td>2.26066e+06</td>\n",
       "      <td>2.25896e+06</td>\n",
       "      <td>2.26067e+06</td>\n",
       "      <td>2.26067e+06</td>\n",
       "    </tr>\n",
       "    <tr>\n",
       "      <th>mean</th>\n",
       "      <td>15046.9</td>\n",
       "      <td>15041.7</td>\n",
       "      <td>13.0929</td>\n",
       "      <td>77992.4</td>\n",
       "      <td>18.8242</td>\n",
       "      <td>16658.5</td>\n",
       "      <td>11824</td>\n",
       "    </tr>\n",
       "    <tr>\n",
       "      <th>std</th>\n",
       "      <td>9190.25</td>\n",
       "      <td>9188.41</td>\n",
       "      <td>4.83211</td>\n",
       "      <td>112696</td>\n",
       "      <td>14.1833</td>\n",
       "      <td>22948.3</td>\n",
       "      <td>9889.6</td>\n",
       "    </tr>\n",
       "    <tr>\n",
       "      <th>min</th>\n",
       "      <td>500</td>\n",
       "      <td>500</td>\n",
       "      <td>5.31</td>\n",
       "      <td>0</td>\n",
       "      <td>-1</td>\n",
       "      <td>0</td>\n",
       "      <td>0</td>\n",
       "    </tr>\n",
       "    <tr>\n",
       "      <th>25%</th>\n",
       "      <td>8000</td>\n",
       "      <td>8000</td>\n",
       "      <td>9.49</td>\n",
       "      <td>46000</td>\n",
       "      <td>11.89</td>\n",
       "      <td>5950</td>\n",
       "      <td>4272.58</td>\n",
       "    </tr>\n",
       "    <tr>\n",
       "      <th>50%</th>\n",
       "      <td>12900</td>\n",
       "      <td>12875</td>\n",
       "      <td>12.62</td>\n",
       "      <td>65000</td>\n",
       "      <td>17.84</td>\n",
       "      <td>11324</td>\n",
       "      <td>9060.87</td>\n",
       "    </tr>\n",
       "    <tr>\n",
       "      <th>75%</th>\n",
       "      <td>20000</td>\n",
       "      <td>20000</td>\n",
       "      <td>15.99</td>\n",
       "      <td>93000</td>\n",
       "      <td>24.49</td>\n",
       "      <td>20246</td>\n",
       "      <td>16708</td>\n",
       "    </tr>\n",
       "    <tr>\n",
       "      <th>max</th>\n",
       "      <td>40000</td>\n",
       "      <td>40000</td>\n",
       "      <td>30.99</td>\n",
       "      <td>1.1e+08</td>\n",
       "      <td>999</td>\n",
       "      <td>2.90484e+06</td>\n",
       "      <td>63296.9</td>\n",
       "    </tr>\n",
       "  </tbody>\n",
       "</table>\n",
       "</div>"
      ],
      "text/plain": [
       "         loan_amnt  funded_amnt     int_rate   annual_inc          dti  \\\n",
       "count  2.26067e+06  2.26067e+06  2.26067e+06  2.26066e+06  2.25896e+06   \n",
       "mean       15046.9      15041.7      13.0929      77992.4      18.8242   \n",
       "std        9190.25      9188.41      4.83211       112696      14.1833   \n",
       "min            500          500         5.31            0           -1   \n",
       "25%           8000         8000         9.49        46000        11.89   \n",
       "50%          12900        12875        12.62        65000        17.84   \n",
       "75%          20000        20000        15.99        93000        24.49   \n",
       "max          40000        40000        30.99      1.1e+08          999   \n",
       "\n",
       "         revol_bal  total_pymnt  \n",
       "count  2.26067e+06  2.26067e+06  \n",
       "mean       16658.5        11824  \n",
       "std        22948.3       9889.6  \n",
       "min              0            0  \n",
       "25%           5950      4272.58  \n",
       "50%          11324      9060.87  \n",
       "75%          20246        16708  \n",
       "max    2.90484e+06      63296.9  "
      ]
     },
     "execution_count": 10,
     "metadata": {},
     "output_type": "execute_result"
    }
   ],
   "source": [
    "# quick summary statistics\n",
    "filtered_loan_data.describe().apply(lambda s: s.apply(lambda x: format(x, 'g')))"
   ]
  },
  {
   "cell_type": "code",
   "execution_count": null,
   "metadata": {
    "collapsed": true
   },
   "outputs": [],
   "source": []
  }
 ],
 "metadata": {
  "kernelspec": {
   "display_name": "Python 3",
   "language": "python",
   "name": "python3"
  },
  "language_info": {
   "codemirror_mode": {
    "name": "ipython",
    "version": 3
   },
   "file_extension": ".py",
   "mimetype": "text/x-python",
   "name": "python",
   "nbconvert_exporter": "python",
   "pygments_lexer": "ipython3",
   "version": "3.6.6"
  }
 },
 "nbformat": 4,
 "nbformat_minor": 2
}
