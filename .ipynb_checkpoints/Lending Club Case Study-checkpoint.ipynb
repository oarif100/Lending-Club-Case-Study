{
 "cells": [
  {
   "cell_type": "code",
   "execution_count": 1,
   "metadata": {
    "collapsed": true
   },
   "outputs": [],
   "source": [
    "# import necessary libraries\n",
    "import numpy as np\n",
    "import pandas as pd\n",
    "import matplotlib\n",
    "import matplotlib.pyplot as plt\n",
    "import seaborn as sns\n",
    "from sklearn.linear_model import LogisticRegressionCV\n",
    "import sklearn.metrics as metrics\n",
    "from sklearn.preprocessing import PolynomialFeatures\n",
    "from sklearn.discriminant_analysis import LinearDiscriminantAnalysis\n",
    "from sklearn.discriminant_analysis import QuadraticDiscriminantAnalysis\n",
    "from sklearn.linear_model import LinearRegression\n",
    "from sklearn.neighbors import KNeighborsClassifier\n",
    "from sklearn.tree import DecisionTreeClassifier\n",
    "from sklearn.model_selection import cross_val_score\n",
    "from sklearn.metrics import accuracy_score\n",
    "from sklearn.metrics import confusion_matrix\n",
    "from sklearn.preprocessing import Imputer\n",
    "from sklearn.metrics import mean_squared_error\n",
    "\n",
    "from sklearn.tree import export_graphviz\n",
    "from IPython.display import Image\n",
    "from IPython.display import display\n",
    "%matplotlib inline"
   ]
  },
  {
   "cell_type": "code",
   "execution_count": 2,
   "metadata": {},
   "outputs": [],
   "source": [
    "# read in data\n",
    "#raw_loan_data = pd.read_csv('loan.csv')\n",
    "#raw_loan_data.shape"
   ]
  },
  {
   "cell_type": "code",
   "execution_count": 3,
   "metadata": {
    "collapsed": true
   },
   "outputs": [],
   "source": [
    "# filter for relevant columns\n",
    "#relevant_cols = ['loan_amnt', 'funded_amnt', 'term', 'int_rate', 'grade', 'annual_inc', 'issue_d', 'dti', 'revol_bal', 'total_pymnt', 'loan_status']\n",
    "# save filtered data to avoid reading large raw data file again\n",
    "#raw_loan_data[relevant_cols].to_csv('filtered_loan_data.csv', index = False)"
   ]
  },
  {
   "cell_type": "code",
   "execution_count": 4,
   "metadata": {
    "collapsed": true
   },
   "outputs": [],
   "source": [
    "# read in filtered data\n",
    "filtered_loan_data = pd.read_csv('filtered_loan_data.csv')"
   ]
  },
  {
   "cell_type": "code",
   "execution_count": 5,
   "metadata": {},
   "outputs": [
    {
     "data": {
      "text/plain": [
       "(2260668, 11)"
      ]
     },
     "execution_count": 5,
     "metadata": {},
     "output_type": "execute_result"
    }
   ],
   "source": [
    "# sanity check that number of rows has remained constant in filtering\n",
    "filtered_loan_data.shape"
   ]
  },
  {
   "cell_type": "markdown",
   "metadata": {},
   "source": [
    "# Part 1: Data Exploration and Evaluation"
   ]
  },
  {
   "cell_type": "markdown",
   "metadata": {},
   "source": [
    "Part 1 consists of three sections:\n",
    "\n",
    "#### Section 1A: Handling Missing Values\n",
    "#### Section 1B: Cleaning Categorical Variables\n",
    "#### Section 1C: Managing Outliers for Numerical Variables\n",
    "#### Section 1D: Visualizing Cleaned Data"
   ]
  },
  {
   "cell_type": "markdown",
   "metadata": {},
   "source": [
    "#### Section 1A: Handling Missing Values"
   ]
  },
  {
   "cell_type": "code",
   "execution_count": 6,
   "metadata": {},
   "outputs": [
    {
     "data": {
      "text/html": [
       "<div>\n",
       "<style>\n",
       "    .dataframe thead tr:only-child th {\n",
       "        text-align: right;\n",
       "    }\n",
       "\n",
       "    .dataframe thead th {\n",
       "        text-align: left;\n",
       "    }\n",
       "\n",
       "    .dataframe tbody tr th {\n",
       "        vertical-align: top;\n",
       "    }\n",
       "</style>\n",
       "<table border=\"1\" class=\"dataframe\">\n",
       "  <thead>\n",
       "    <tr style=\"text-align: right;\">\n",
       "      <th></th>\n",
       "      <th>loan_amnt</th>\n",
       "      <th>funded_amnt</th>\n",
       "      <th>term</th>\n",
       "      <th>int_rate</th>\n",
       "      <th>grade</th>\n",
       "      <th>annual_inc</th>\n",
       "      <th>issue_d</th>\n",
       "      <th>dti</th>\n",
       "      <th>revol_bal</th>\n",
       "      <th>total_pymnt</th>\n",
       "      <th>loan_status</th>\n",
       "    </tr>\n",
       "  </thead>\n",
       "  <tbody>\n",
       "    <tr>\n",
       "      <th>0</th>\n",
       "      <td>2500</td>\n",
       "      <td>2500</td>\n",
       "      <td>36 months</td>\n",
       "      <td>13.56</td>\n",
       "      <td>C</td>\n",
       "      <td>55000.0</td>\n",
       "      <td>Dec-2018</td>\n",
       "      <td>18.24</td>\n",
       "      <td>4341</td>\n",
       "      <td>167.02</td>\n",
       "      <td>Current</td>\n",
       "    </tr>\n",
       "    <tr>\n",
       "      <th>1</th>\n",
       "      <td>30000</td>\n",
       "      <td>30000</td>\n",
       "      <td>60 months</td>\n",
       "      <td>18.94</td>\n",
       "      <td>D</td>\n",
       "      <td>90000.0</td>\n",
       "      <td>Dec-2018</td>\n",
       "      <td>26.52</td>\n",
       "      <td>12315</td>\n",
       "      <td>1507.11</td>\n",
       "      <td>Current</td>\n",
       "    </tr>\n",
       "    <tr>\n",
       "      <th>2</th>\n",
       "      <td>5000</td>\n",
       "      <td>5000</td>\n",
       "      <td>36 months</td>\n",
       "      <td>17.97</td>\n",
       "      <td>D</td>\n",
       "      <td>59280.0</td>\n",
       "      <td>Dec-2018</td>\n",
       "      <td>10.51</td>\n",
       "      <td>4599</td>\n",
       "      <td>353.89</td>\n",
       "      <td>Current</td>\n",
       "    </tr>\n",
       "    <tr>\n",
       "      <th>3</th>\n",
       "      <td>4000</td>\n",
       "      <td>4000</td>\n",
       "      <td>36 months</td>\n",
       "      <td>18.94</td>\n",
       "      <td>D</td>\n",
       "      <td>92000.0</td>\n",
       "      <td>Dec-2018</td>\n",
       "      <td>16.74</td>\n",
       "      <td>5468</td>\n",
       "      <td>286.71</td>\n",
       "      <td>Current</td>\n",
       "    </tr>\n",
       "    <tr>\n",
       "      <th>4</th>\n",
       "      <td>30000</td>\n",
       "      <td>30000</td>\n",
       "      <td>60 months</td>\n",
       "      <td>16.14</td>\n",
       "      <td>C</td>\n",
       "      <td>57250.0</td>\n",
       "      <td>Dec-2018</td>\n",
       "      <td>26.35</td>\n",
       "      <td>829</td>\n",
       "      <td>1423.21</td>\n",
       "      <td>Current</td>\n",
       "    </tr>\n",
       "  </tbody>\n",
       "</table>\n",
       "</div>"
      ],
      "text/plain": [
       "   loan_amnt  funded_amnt        term  int_rate grade  annual_inc   issue_d  \\\n",
       "0       2500         2500   36 months     13.56     C     55000.0  Dec-2018   \n",
       "1      30000        30000   60 months     18.94     D     90000.0  Dec-2018   \n",
       "2       5000         5000   36 months     17.97     D     59280.0  Dec-2018   \n",
       "3       4000         4000   36 months     18.94     D     92000.0  Dec-2018   \n",
       "4      30000        30000   60 months     16.14     C     57250.0  Dec-2018   \n",
       "\n",
       "     dti  revol_bal  total_pymnt loan_status  \n",
       "0  18.24       4341       167.02     Current  \n",
       "1  26.52      12315      1507.11     Current  \n",
       "2  10.51       4599       353.89     Current  \n",
       "3  16.74       5468       286.71     Current  \n",
       "4  26.35        829      1423.21     Current  "
      ]
     },
     "execution_count": 6,
     "metadata": {},
     "output_type": "execute_result"
    }
   ],
   "source": [
    "# preview filtered data\n",
    "filtered_loan_data.head()"
   ]
  },
  {
   "cell_type": "code",
   "execution_count": 7,
   "metadata": {},
   "outputs": [
    {
     "data": {
      "text/plain": [
       "loan_amnt      2260668\n",
       "funded_amnt    2260668\n",
       "term           2260668\n",
       "int_rate       2260668\n",
       "grade          2260668\n",
       "annual_inc     2260664\n",
       "issue_d        2260668\n",
       "dti            2258957\n",
       "revol_bal      2260668\n",
       "total_pymnt    2260668\n",
       "loan_status    2260668\n",
       "dtype: int64"
      ]
     },
     "execution_count": 7,
     "metadata": {},
     "output_type": "execute_result"
    }
   ],
   "source": [
    "# count of values by variable\n",
    "filtered_loan_data.count()"
   ]
  },
  {
   "cell_type": "code",
   "execution_count": 8,
   "metadata": {},
   "outputs": [
    {
     "data": {
      "text/plain": [
       "(2258953, 11)"
      ]
     },
     "execution_count": 8,
     "metadata": {},
     "output_type": "execute_result"
    }
   ],
   "source": [
    "# a version of our dataset with no missing values\n",
    "filtered_loan_data_no_missing = filtered_loan_data.dropna()\n",
    "filtered_loan_data_no_missing.shape"
   ]
  },
  {
   "cell_type": "code",
   "execution_count": 9,
   "metadata": {},
   "outputs": [
    {
     "data": {
      "text/plain": [
       "0.0758625326673355"
      ]
     },
     "execution_count": 9,
     "metadata": {},
     "output_type": "execute_result"
    }
   ],
   "source": [
    "# missing values are less than 0.1% of data\n",
    "(filtered_loan_data.shape[0] - filtered_loan_data_no_missing.shape[0]) / filtered_loan_data.shape[0] * 100"
   ]
  },
  {
   "cell_type": "markdown",
   "metadata": {},
   "source": [
    "Given the very low incidence (< 0.1%) of missing values, we can exclude them from the analysis. If missing values were of higher incidence, then we could impute them using a means or regression method."
   ]
  },
  {
   "cell_type": "markdown",
   "metadata": {},
   "source": [
    "#### Section 1B: Cleaning Categorical Variables"
   ]
  },
  {
   "cell_type": "code",
   "execution_count": 23,
   "metadata": {},
   "outputs": [
    {
     "data": {
      "text/plain": [
       "['grade', 'issue_d', 'loan_status', 'term']"
      ]
     },
     "execution_count": 23,
     "metadata": {},
     "output_type": "execute_result"
    }
   ],
   "source": [
    "numerical_vars = filtered_loan_data_no_missing._get_numeric_data().columns.values\n",
    "categorical_vars = list(filtered_loan_data_no_missing.columns.difference(numerical_vars))\n",
    "categorical_vars"
   ]
  },
  {
   "cell_type": "code",
   "execution_count": 30,
   "metadata": {},
   "outputs": [
    {
     "data": {
      "text/html": [
       "<div>\n",
       "<style>\n",
       "    .dataframe thead tr:only-child th {\n",
       "        text-align: right;\n",
       "    }\n",
       "\n",
       "    .dataframe thead th {\n",
       "        text-align: left;\n",
       "    }\n",
       "\n",
       "    .dataframe tbody tr th {\n",
       "        vertical-align: top;\n",
       "    }\n",
       "</style>\n",
       "<table border=\"1\" class=\"dataframe\">\n",
       "  <thead>\n",
       "    <tr style=\"text-align: right;\">\n",
       "      <th></th>\n",
       "      <th>grade</th>\n",
       "      <th>issue_d</th>\n",
       "      <th>loan_status</th>\n",
       "      <th>term</th>\n",
       "    </tr>\n",
       "  </thead>\n",
       "  <tbody>\n",
       "    <tr>\n",
       "      <th>count</th>\n",
       "      <td>2258953</td>\n",
       "      <td>2258953</td>\n",
       "      <td>2258953</td>\n",
       "      <td>2258953</td>\n",
       "    </tr>\n",
       "    <tr>\n",
       "      <th>unique</th>\n",
       "      <td>7</td>\n",
       "      <td>139</td>\n",
       "      <td>9</td>\n",
       "      <td>2</td>\n",
       "    </tr>\n",
       "    <tr>\n",
       "      <th>top</th>\n",
       "      <td>B</td>\n",
       "      <td>Mar-2016</td>\n",
       "      <td>Fully Paid</td>\n",
       "      <td>36 months</td>\n",
       "    </tr>\n",
       "    <tr>\n",
       "      <th>freq</th>\n",
       "      <td>663120</td>\n",
       "      <td>61979</td>\n",
       "      <td>1041702</td>\n",
       "      <td>1608745</td>\n",
       "    </tr>\n",
       "  </tbody>\n",
       "</table>\n",
       "</div>"
      ],
      "text/plain": [
       "          grade   issue_d loan_status        term\n",
       "count   2258953   2258953     2258953     2258953\n",
       "unique        7       139           9           2\n",
       "top           B  Mar-2016  Fully Paid   36 months\n",
       "freq     663120     61979     1041702     1608745"
      ]
     },
     "execution_count": 30,
     "metadata": {},
     "output_type": "execute_result"
    }
   ],
   "source": [
    "# summary statistics on categorical variables\n",
    "filtered_loan_data_no_missing[categorical_vars].describe()"
   ]
  },
  {
   "cell_type": "markdown",
   "metadata": {},
   "source": [
    "The above summary statistics table suggests that grade, loan status and term are good candidates for conversion to dummy variables (given their relatively small number of unique values) while issue date is not (139 unique values). \n",
    "\n",
    "Issue date needs to be coded to capture the information its conveying, an indicator of months since origination."
   ]
  },
  {
   "cell_type": "code",
   "execution_count": 40,
   "metadata": {},
   "outputs": [],
   "source": [
    "# code grade, loan status and term as dummies\n",
    "filtered_loan_data_cat_fix_1 = pd.get_dummies(filtered_loan_data_no_missing, columns = ['grade', 'loan_status', 'term'], drop_first = True)"
   ]
  },
  {
   "cell_type": "code",
   "execution_count": 41,
   "metadata": {},
   "outputs": [
    {
     "data": {
      "text/plain": [
       "array(['loan_amnt', 'funded_amnt', 'int_rate', 'annual_inc', 'issue_d',\n",
       "       'dti', 'revol_bal', 'total_pymnt', 'grade_B', 'grade_C', 'grade_D',\n",
       "       'grade_E', 'grade_F', 'grade_G', 'loan_status_Current',\n",
       "       'loan_status_Default',\n",
       "       'loan_status_Does not meet the credit policy. Status:Charged Off',\n",
       "       'loan_status_Does not meet the credit policy. Status:Fully Paid',\n",
       "       'loan_status_Fully Paid', 'loan_status_In Grace Period',\n",
       "       'loan_status_Late (16-30 days)', 'loan_status_Late (31-120 days)',\n",
       "       'term_ 60 months'], dtype=object)"
      ]
     },
     "execution_count": 41,
     "metadata": {},
     "output_type": "execute_result"
    }
   ],
   "source": [
    "filtered_loan_data_cat_fix_1.columns.values"
   ]
  },
  {
   "cell_type": "code",
   "execution_count": 44,
   "metadata": {},
   "outputs": [
    {
     "data": {
      "text/plain": [
       "['Dec-2018',\n",
       " 'Nov-2018',\n",
       " 'Oct-2018',\n",
       " 'Sep-2018',\n",
       " 'Aug-2018',\n",
       " 'Jul-2018',\n",
       " 'Jun-2018',\n",
       " 'May-2018',\n",
       " 'Apr-2018',\n",
       " 'Mar-2018',\n",
       " 'Feb-2018',\n",
       " 'Jan-2018',\n",
       " 'Sep-2016',\n",
       " 'Aug-2016',\n",
       " 'Jul-2016',\n",
       " 'Jun-2016',\n",
       " 'May-2016',\n",
       " 'Apr-2016',\n",
       " 'Mar-2016',\n",
       " 'Feb-2016',\n",
       " 'Jan-2016',\n",
       " 'Dec-2016',\n",
       " 'Nov-2016',\n",
       " 'Oct-2016',\n",
       " 'Dec-2015',\n",
       " 'Nov-2015',\n",
       " 'Oct-2015',\n",
       " 'Sep-2015',\n",
       " 'Aug-2015',\n",
       " 'Jul-2015',\n",
       " 'Jun-2015',\n",
       " 'May-2015',\n",
       " 'Apr-2015',\n",
       " 'Mar-2015',\n",
       " 'Feb-2015',\n",
       " 'Jan-2015',\n",
       " 'Mar-2017',\n",
       " 'Feb-2017',\n",
       " 'Jan-2017',\n",
       " 'Sep-2017',\n",
       " 'Aug-2017',\n",
       " 'Jul-2017',\n",
       " 'Jun-2017',\n",
       " 'May-2017',\n",
       " 'Apr-2017',\n",
       " 'Dec-2013',\n",
       " 'Nov-2013',\n",
       " 'Oct-2013',\n",
       " 'Sep-2013',\n",
       " 'Aug-2013',\n",
       " 'Jul-2013',\n",
       " 'Jun-2013',\n",
       " 'May-2013',\n",
       " 'Apr-2013',\n",
       " 'Mar-2013',\n",
       " 'Feb-2013',\n",
       " 'Jan-2013',\n",
       " 'Dec-2012',\n",
       " 'Nov-2012',\n",
       " 'Oct-2012',\n",
       " 'Sep-2012',\n",
       " 'Aug-2012',\n",
       " 'Jul-2012',\n",
       " 'Jun-2012',\n",
       " 'May-2012',\n",
       " 'Apr-2012',\n",
       " 'Mar-2012',\n",
       " 'Feb-2012',\n",
       " 'Jan-2012',\n",
       " 'Dec-2014',\n",
       " 'Nov-2014',\n",
       " 'Oct-2014',\n",
       " 'Sep-2014',\n",
       " 'Aug-2014',\n",
       " 'Jul-2014',\n",
       " 'Jun-2014',\n",
       " 'May-2014',\n",
       " 'Apr-2014',\n",
       " 'Mar-2014',\n",
       " 'Feb-2014',\n",
       " 'Jan-2014',\n",
       " 'Dec-2011',\n",
       " 'Nov-2011',\n",
       " 'Oct-2011',\n",
       " 'Sep-2011',\n",
       " 'Aug-2011',\n",
       " 'Jul-2011',\n",
       " 'Jun-2011',\n",
       " 'May-2011',\n",
       " 'Apr-2011',\n",
       " 'Mar-2011',\n",
       " 'Feb-2011',\n",
       " 'Jan-2011',\n",
       " 'Dec-2010',\n",
       " 'Nov-2010',\n",
       " 'Oct-2010',\n",
       " 'Sep-2010',\n",
       " 'Aug-2010',\n",
       " 'Jul-2010',\n",
       " 'Jun-2010',\n",
       " 'May-2010',\n",
       " 'Apr-2010',\n",
       " 'Mar-2010',\n",
       " 'Feb-2010',\n",
       " 'Jan-2010',\n",
       " 'Dec-2009',\n",
       " 'Nov-2009',\n",
       " 'Oct-2009',\n",
       " 'Sep-2009',\n",
       " 'Aug-2009',\n",
       " 'Jul-2009',\n",
       " 'Jun-2009',\n",
       " 'May-2009',\n",
       " 'Apr-2009',\n",
       " 'Mar-2009',\n",
       " 'Feb-2009',\n",
       " 'Jan-2009',\n",
       " 'Dec-2008',\n",
       " 'Nov-2008',\n",
       " 'Oct-2008',\n",
       " 'Sep-2008',\n",
       " 'Aug-2008',\n",
       " 'Jul-2008',\n",
       " 'Jun-2008',\n",
       " 'May-2008',\n",
       " 'Apr-2008',\n",
       " 'Mar-2008',\n",
       " 'Feb-2008',\n",
       " 'Jan-2008',\n",
       " 'Dec-2007',\n",
       " 'Nov-2007',\n",
       " 'Oct-2007',\n",
       " 'Sep-2007',\n",
       " 'Aug-2007',\n",
       " 'Jul-2007',\n",
       " 'Jun-2007',\n",
       " 'Dec-2017',\n",
       " 'Nov-2017',\n",
       " 'Oct-2017']"
      ]
     },
     "execution_count": 44,
     "metadata": {},
     "output_type": "execute_result"
    }
   ],
   "source": [
    "#filtered_loan_data_cat_fix_1["
   ]
  },
  {
   "cell_type": "code",
   "execution_count": null,
   "metadata": {
    "collapsed": true
   },
   "outputs": [],
   "source": [
    "# summary"
   ]
  },
  {
   "cell_type": "code",
   "execution_count": 19,
   "metadata": {},
   "outputs": [],
   "source": [
    "Loan_data_with_dummies = pd.get_dummies(filtered_loan_data_no_missing)"
   ]
  },
  {
   "cell_type": "code",
   "execution_count": null,
   "metadata": {
    "collapsed": true
   },
   "outputs": [],
   "source": []
  },
  {
   "cell_type": "code",
   "execution_count": 20,
   "metadata": {},
   "outputs": [
    {
     "data": {
      "text/html": [
       "<div>\n",
       "<style>\n",
       "    .dataframe thead tr:only-child th {\n",
       "        text-align: right;\n",
       "    }\n",
       "\n",
       "    .dataframe thead th {\n",
       "        text-align: left;\n",
       "    }\n",
       "\n",
       "    .dataframe tbody tr th {\n",
       "        vertical-align: top;\n",
       "    }\n",
       "</style>\n",
       "<table border=\"1\" class=\"dataframe\">\n",
       "  <thead>\n",
       "    <tr style=\"text-align: right;\">\n",
       "      <th></th>\n",
       "      <th>loan_amnt</th>\n",
       "      <th>funded_amnt</th>\n",
       "      <th>int_rate</th>\n",
       "      <th>annual_inc</th>\n",
       "      <th>dti</th>\n",
       "      <th>revol_bal</th>\n",
       "      <th>total_pymnt</th>\n",
       "      <th>term_ 36 months</th>\n",
       "      <th>term_ 60 months</th>\n",
       "      <th>grade_A</th>\n",
       "      <th>...</th>\n",
       "      <th>issue_d_Sep-2018</th>\n",
       "      <th>loan_status_Charged Off</th>\n",
       "      <th>loan_status_Current</th>\n",
       "      <th>loan_status_Default</th>\n",
       "      <th>loan_status_Does not meet the credit policy. Status:Charged Off</th>\n",
       "      <th>loan_status_Does not meet the credit policy. Status:Fully Paid</th>\n",
       "      <th>loan_status_Fully Paid</th>\n",
       "      <th>loan_status_In Grace Period</th>\n",
       "      <th>loan_status_Late (16-30 days)</th>\n",
       "      <th>loan_status_Late (31-120 days)</th>\n",
       "    </tr>\n",
       "  </thead>\n",
       "  <tbody>\n",
       "    <tr>\n",
       "      <th>0</th>\n",
       "      <td>2500</td>\n",
       "      <td>2500</td>\n",
       "      <td>13.56</td>\n",
       "      <td>55000.0</td>\n",
       "      <td>18.24</td>\n",
       "      <td>4341</td>\n",
       "      <td>167.02</td>\n",
       "      <td>1</td>\n",
       "      <td>0</td>\n",
       "      <td>0</td>\n",
       "      <td>...</td>\n",
       "      <td>0</td>\n",
       "      <td>0</td>\n",
       "      <td>1</td>\n",
       "      <td>0</td>\n",
       "      <td>0</td>\n",
       "      <td>0</td>\n",
       "      <td>0</td>\n",
       "      <td>0</td>\n",
       "      <td>0</td>\n",
       "      <td>0</td>\n",
       "    </tr>\n",
       "    <tr>\n",
       "      <th>1</th>\n",
       "      <td>30000</td>\n",
       "      <td>30000</td>\n",
       "      <td>18.94</td>\n",
       "      <td>90000.0</td>\n",
       "      <td>26.52</td>\n",
       "      <td>12315</td>\n",
       "      <td>1507.11</td>\n",
       "      <td>0</td>\n",
       "      <td>1</td>\n",
       "      <td>0</td>\n",
       "      <td>...</td>\n",
       "      <td>0</td>\n",
       "      <td>0</td>\n",
       "      <td>1</td>\n",
       "      <td>0</td>\n",
       "      <td>0</td>\n",
       "      <td>0</td>\n",
       "      <td>0</td>\n",
       "      <td>0</td>\n",
       "      <td>0</td>\n",
       "      <td>0</td>\n",
       "    </tr>\n",
       "    <tr>\n",
       "      <th>2</th>\n",
       "      <td>5000</td>\n",
       "      <td>5000</td>\n",
       "      <td>17.97</td>\n",
       "      <td>59280.0</td>\n",
       "      <td>10.51</td>\n",
       "      <td>4599</td>\n",
       "      <td>353.89</td>\n",
       "      <td>1</td>\n",
       "      <td>0</td>\n",
       "      <td>0</td>\n",
       "      <td>...</td>\n",
       "      <td>0</td>\n",
       "      <td>0</td>\n",
       "      <td>1</td>\n",
       "      <td>0</td>\n",
       "      <td>0</td>\n",
       "      <td>0</td>\n",
       "      <td>0</td>\n",
       "      <td>0</td>\n",
       "      <td>0</td>\n",
       "      <td>0</td>\n",
       "    </tr>\n",
       "    <tr>\n",
       "      <th>3</th>\n",
       "      <td>4000</td>\n",
       "      <td>4000</td>\n",
       "      <td>18.94</td>\n",
       "      <td>92000.0</td>\n",
       "      <td>16.74</td>\n",
       "      <td>5468</td>\n",
       "      <td>286.71</td>\n",
       "      <td>1</td>\n",
       "      <td>0</td>\n",
       "      <td>0</td>\n",
       "      <td>...</td>\n",
       "      <td>0</td>\n",
       "      <td>0</td>\n",
       "      <td>1</td>\n",
       "      <td>0</td>\n",
       "      <td>0</td>\n",
       "      <td>0</td>\n",
       "      <td>0</td>\n",
       "      <td>0</td>\n",
       "      <td>0</td>\n",
       "      <td>0</td>\n",
       "    </tr>\n",
       "    <tr>\n",
       "      <th>4</th>\n",
       "      <td>30000</td>\n",
       "      <td>30000</td>\n",
       "      <td>16.14</td>\n",
       "      <td>57250.0</td>\n",
       "      <td>26.35</td>\n",
       "      <td>829</td>\n",
       "      <td>1423.21</td>\n",
       "      <td>0</td>\n",
       "      <td>1</td>\n",
       "      <td>0</td>\n",
       "      <td>...</td>\n",
       "      <td>0</td>\n",
       "      <td>0</td>\n",
       "      <td>1</td>\n",
       "      <td>0</td>\n",
       "      <td>0</td>\n",
       "      <td>0</td>\n",
       "      <td>0</td>\n",
       "      <td>0</td>\n",
       "      <td>0</td>\n",
       "      <td>0</td>\n",
       "    </tr>\n",
       "  </tbody>\n",
       "</table>\n",
       "<p>5 rows × 164 columns</p>\n",
       "</div>"
      ],
      "text/plain": [
       "   loan_amnt  funded_amnt  int_rate  annual_inc    dti  revol_bal  \\\n",
       "0       2500         2500     13.56     55000.0  18.24       4341   \n",
       "1      30000        30000     18.94     90000.0  26.52      12315   \n",
       "2       5000         5000     17.97     59280.0  10.51       4599   \n",
       "3       4000         4000     18.94     92000.0  16.74       5468   \n",
       "4      30000        30000     16.14     57250.0  26.35        829   \n",
       "\n",
       "   total_pymnt  term_ 36 months  term_ 60 months  grade_A  \\\n",
       "0       167.02                1                0        0   \n",
       "1      1507.11                0                1        0   \n",
       "2       353.89                1                0        0   \n",
       "3       286.71                1                0        0   \n",
       "4      1423.21                0                1        0   \n",
       "\n",
       "                ...                issue_d_Sep-2018  loan_status_Charged Off  \\\n",
       "0               ...                               0                        0   \n",
       "1               ...                               0                        0   \n",
       "2               ...                               0                        0   \n",
       "3               ...                               0                        0   \n",
       "4               ...                               0                        0   \n",
       "\n",
       "   loan_status_Current  loan_status_Default  \\\n",
       "0                    1                    0   \n",
       "1                    1                    0   \n",
       "2                    1                    0   \n",
       "3                    1                    0   \n",
       "4                    1                    0   \n",
       "\n",
       "   loan_status_Does not meet the credit policy. Status:Charged Off  \\\n",
       "0                                                  0                 \n",
       "1                                                  0                 \n",
       "2                                                  0                 \n",
       "3                                                  0                 \n",
       "4                                                  0                 \n",
       "\n",
       "   loan_status_Does not meet the credit policy. Status:Fully Paid  \\\n",
       "0                                                  0                \n",
       "1                                                  0                \n",
       "2                                                  0                \n",
       "3                                                  0                \n",
       "4                                                  0                \n",
       "\n",
       "   loan_status_Fully Paid  loan_status_In Grace Period  \\\n",
       "0                       0                            0   \n",
       "1                       0                            0   \n",
       "2                       0                            0   \n",
       "3                       0                            0   \n",
       "4                       0                            0   \n",
       "\n",
       "   loan_status_Late (16-30 days)  loan_status_Late (31-120 days)  \n",
       "0                              0                               0  \n",
       "1                              0                               0  \n",
       "2                              0                               0  \n",
       "3                              0                               0  \n",
       "4                              0                               0  \n",
       "\n",
       "[5 rows x 164 columns]"
      ]
     },
     "execution_count": 20,
     "metadata": {},
     "output_type": "execute_result"
    }
   ],
   "source": [
    "Loan_data_with_dummies.head()"
   ]
  },
  {
   "cell_type": "markdown",
   "metadata": {},
   "source": [
    "#### Part 1B: Univariate summary statistics and distributions"
   ]
  },
  {
   "cell_type": "code",
   "execution_count": 14,
   "metadata": {},
   "outputs": [
    {
     "data": {
      "text/html": [
       "<div>\n",
       "<style>\n",
       "    .dataframe thead tr:only-child th {\n",
       "        text-align: right;\n",
       "    }\n",
       "\n",
       "    .dataframe thead th {\n",
       "        text-align: left;\n",
       "    }\n",
       "\n",
       "    .dataframe tbody tr th {\n",
       "        vertical-align: top;\n",
       "    }\n",
       "</style>\n",
       "<table border=\"1\" class=\"dataframe\">\n",
       "  <thead>\n",
       "    <tr style=\"text-align: right;\">\n",
       "      <th></th>\n",
       "      <th>loan_amnt</th>\n",
       "      <th>funded_amnt</th>\n",
       "      <th>int_rate</th>\n",
       "      <th>annual_inc</th>\n",
       "      <th>dti</th>\n",
       "      <th>revol_bal</th>\n",
       "      <th>total_pymnt</th>\n",
       "    </tr>\n",
       "  </thead>\n",
       "  <tbody>\n",
       "    <tr>\n",
       "      <th>count</th>\n",
       "      <td>2.25895e+06</td>\n",
       "      <td>2.25895e+06</td>\n",
       "      <td>2.25895e+06</td>\n",
       "      <td>2.25895e+06</td>\n",
       "      <td>2.25895e+06</td>\n",
       "      <td>2.25895e+06</td>\n",
       "      <td>2.25895e+06</td>\n",
       "    </tr>\n",
       "    <tr>\n",
       "      <th>mean</th>\n",
       "      <td>15043.9</td>\n",
       "      <td>15038.6</td>\n",
       "      <td>13.0921</td>\n",
       "      <td>78051.5</td>\n",
       "      <td>18.8242</td>\n",
       "      <td>16658.9</td>\n",
       "      <td>11827.2</td>\n",
       "    </tr>\n",
       "    <tr>\n",
       "      <th>std</th>\n",
       "      <td>9188.07</td>\n",
       "      <td>9186.24</td>\n",
       "      <td>4.83136</td>\n",
       "      <td>112718</td>\n",
       "      <td>14.1833</td>\n",
       "      <td>22945.4</td>\n",
       "      <td>9890.39</td>\n",
       "    </tr>\n",
       "    <tr>\n",
       "      <th>min</th>\n",
       "      <td>500</td>\n",
       "      <td>500</td>\n",
       "      <td>5.31</td>\n",
       "      <td>0</td>\n",
       "      <td>-1</td>\n",
       "      <td>0</td>\n",
       "      <td>0</td>\n",
       "    </tr>\n",
       "    <tr>\n",
       "      <th>25%</th>\n",
       "      <td>8000</td>\n",
       "      <td>8000</td>\n",
       "      <td>9.49</td>\n",
       "      <td>46000</td>\n",
       "      <td>11.89</td>\n",
       "      <td>5951</td>\n",
       "      <td>4274.47</td>\n",
       "    </tr>\n",
       "    <tr>\n",
       "      <th>50%</th>\n",
       "      <td>12900</td>\n",
       "      <td>12850</td>\n",
       "      <td>12.62</td>\n",
       "      <td>65000</td>\n",
       "      <td>17.84</td>\n",
       "      <td>11325</td>\n",
       "      <td>9065.12</td>\n",
       "    </tr>\n",
       "    <tr>\n",
       "      <th>75%</th>\n",
       "      <td>20000</td>\n",
       "      <td>20000</td>\n",
       "      <td>15.99</td>\n",
       "      <td>93000</td>\n",
       "      <td>24.49</td>\n",
       "      <td>20247</td>\n",
       "      <td>16712.6</td>\n",
       "    </tr>\n",
       "    <tr>\n",
       "      <th>max</th>\n",
       "      <td>40000</td>\n",
       "      <td>40000</td>\n",
       "      <td>30.99</td>\n",
       "      <td>1.1e+08</td>\n",
       "      <td>999</td>\n",
       "      <td>2.90484e+06</td>\n",
       "      <td>63296.9</td>\n",
       "    </tr>\n",
       "  </tbody>\n",
       "</table>\n",
       "</div>"
      ],
      "text/plain": [
       "         loan_amnt  funded_amnt     int_rate   annual_inc          dti  \\\n",
       "count  2.25895e+06  2.25895e+06  2.25895e+06  2.25895e+06  2.25895e+06   \n",
       "mean       15043.9      15038.6      13.0921      78051.5      18.8242   \n",
       "std        9188.07      9186.24      4.83136       112718      14.1833   \n",
       "min            500          500         5.31            0           -1   \n",
       "25%           8000         8000         9.49        46000        11.89   \n",
       "50%          12900        12850        12.62        65000        17.84   \n",
       "75%          20000        20000        15.99        93000        24.49   \n",
       "max          40000        40000        30.99      1.1e+08          999   \n",
       "\n",
       "         revol_bal  total_pymnt  \n",
       "count  2.25895e+06  2.25895e+06  \n",
       "mean       16658.9      11827.2  \n",
       "std        22945.4      9890.39  \n",
       "min              0            0  \n",
       "25%           5951      4274.47  \n",
       "50%          11325      9065.12  \n",
       "75%          20247      16712.6  \n",
       "max    2.90484e+06      63296.9  "
      ]
     },
     "execution_count": 14,
     "metadata": {},
     "output_type": "execute_result"
    }
   ],
   "source": [
    "# summary statistics of numerical variables\n",
    "filtered_loan_data_no_missing.describe().apply(lambda s: s.apply(lambda x: format(x, 'g')))"
   ]
  },
  {
   "cell_type": "code",
   "execution_count": 16,
   "metadata": {},
   "outputs": [
    {
     "data": {
      "text/plain": [
       "array([[<matplotlib.axes._subplots.AxesSubplot object at 0x000001C68C10E748>,\n",
       "        <matplotlib.axes._subplots.AxesSubplot object at 0x000001C68C287CF8>,\n",
       "        <matplotlib.axes._subplots.AxesSubplot object at 0x000001C68D472320>],\n",
       "       [<matplotlib.axes._subplots.AxesSubplot object at 0x000001C68C7B18D0>,\n",
       "        <matplotlib.axes._subplots.AxesSubplot object at 0x000001C68C0B0AC8>,\n",
       "        <matplotlib.axes._subplots.AxesSubplot object at 0x000001C68C0B0BA8>],\n",
       "       [<matplotlib.axes._subplots.AxesSubplot object at 0x000001C68C8C89E8>,\n",
       "        <matplotlib.axes._subplots.AxesSubplot object at 0x000001C68C945160>,\n",
       "        <matplotlib.axes._subplots.AxesSubplot object at 0x000001C68C9A6400>]], dtype=object)"
      ]
     },
     "execution_count": 16,
     "metadata": {},
     "output_type": "execute_result"
    },
    {
     "data": {
      "image/png": "[encoded data removed]",
      "text/plain": [
       "<matplotlib.figure.Figure at 0x1c6e14a0358>"
      ]
     },
     "metadata": {},
     "output_type": "display_data"
    }
   ],
   "source": [
    "# distribution of numeric variables\n",
    "filtered_loan_data_no_missing.hist()"
   ]
  },
  {
   "cell_type": "code",
   "execution_count": 33,
   "metadata": {
    "collapsed": true
   },
   "outputs": [],
   "source": [
    "# tabulation of categorical variables"
   ]
  },
  {
   "cell_type": "code",
   "execution_count": null,
   "metadata": {
    "collapsed": true
   },
   "outputs": [],
   "source": []
  },
  {
   "cell_type": "markdown",
   "metadata": {},
   "source": [
    "Check and clean prior to processing:\n",
    "1. Check for missing values\n",
    "3. Code categorical variables as dummies\n",
    "2. Identify and address outliers for numerical variables"
   ]
  },
  {
   "cell_type": "markdown",
   "metadata": {},
   "source": [
    "#### Data Cleaning Step 2: Identify and remove outliers for numeric variables"
   ]
  },
  {
   "cell_type": "markdown",
   "metadata": {},
   "source": [
    "#### Data Cleaning Step 1: Identify and remove outliers for numeric variables"
   ]
  },
  {
   "cell_type": "code",
   "execution_count": 18,
   "metadata": {},
   "outputs": [
    {
     "data": {
      "text/plain": [
       "loan_amnt        int64\n",
       "funded_amnt      int64\n",
       "term            object\n",
       "int_rate       float64\n",
       "grade           object\n",
       "annual_inc     float64\n",
       "issue_d         object\n",
       "dti            float64\n",
       "revol_bal        int64\n",
       "total_pymnt    float64\n",
       "loan_status     object\n",
       "dtype: object"
      ]
     },
     "execution_count": 18,
     "metadata": {},
     "output_type": "execute_result"
    }
   ],
   "source": [
    "# check that data types were read as expected\n",
    "filtered_loan_data_no_missing.dtypes"
   ]
  },
  {
   "cell_type": "code",
   "execution_count": 19,
   "metadata": {},
   "outputs": [
    {
     "data": {
      "text/plain": [
       "array(['loan_amnt', 'funded_amnt', 'int_rate', 'annual_inc', 'dti',\n",
       "       'revol_bal', 'total_pymnt'], dtype=object)"
      ]
     },
     "execution_count": 19,
     "metadata": {},
     "output_type": "execute_result"
    }
   ],
   "source": [
    "numerical_vars = filtered_loan_data_no_missing._get_numeric_data().columns.values\n",
    "numerical_vars"
   ]
  },
  {
   "cell_type": "code",
   "execution_count": 20,
   "metadata": {},
   "outputs": [
    {
     "data": {
      "image/png": "[encoded data removed]",
      "text/plain": [
       "<matplotlib.figure.Figure at 0x1ad632cc3c8>"
      ]
     },
     "metadata": {},
     "output_type": "display_data"
    },
    {
     "data": {
      "image/png": "[encoded data removed]",
      "text/plain": [
       "<matplotlib.figure.Figure at 0x1ad0c0abb70>"
      ]
     },
     "metadata": {},
     "output_type": "display_data"
    },
    {
     "data": {
      "image/png": "[encoded data removed]",
      "text/plain": [
       "<matplotlib.figure.Figure at 0x1ad0c052908>"
      ]
     },
     "metadata": {},
     "output_type": "display_data"
    },
    {
     "data": {
      "image/png": "[encoded data removed]",
      "text/plain": [
       "<matplotlib.figure.Figure at 0x1ad0c17b898>"
      ]
     },
     "metadata": {},
     "output_type": "display_data"
    },
    {
     "data": {
      "image/png": "[encoded data removed]",
      "text/plain": [
       "<matplotlib.figure.Figure at 0x1ad0c1aa400>"
      ]
     },
     "metadata": {},
     "output_type": "display_data"
    },
    {
     "data": {
      "image/png": "[encoded data removed]",
      "text/plain": [
       "<matplotlib.figure.Figure at 0x1ad0c234c50>"
      ]
     },
     "metadata": {},
     "output_type": "display_data"
    },
    {
     "data": {
      "image/png": "[encoded data removed]",
      "text/plain": [
       "<matplotlib.figure.Figure at 0x1ad0c4cf940>"
      ]
     },
     "metadata": {},
     "output_type": "display_data"
    }
   ],
   "source": [
    "# let's visualize our the numeric variables as box plots to gauge the incidence of outliers\n",
    "for column in filtered_loan_data_no_missing[numerical_vars]:\n",
    "    plt.figure()\n",
    "    filtered_loan_data_no_missing.boxplot([column])\n"
   ]
  },
  {
   "cell_type": "markdown",
   "metadata": {},
   "source": [
    "The picture above shows the highest incidence of outliers in revolving balance, dti, annual income and total payment. This result is logical in that these variables are most sensitive to individual customer situations and are thus most impacted by outlier customers"
   ]
  },
  {
   "cell_type": "code",
   "execution_count": 25,
   "metadata": {},
   "outputs": [],
   "source": [
    "# remove outliers\n",
    "filtered_loan_data_no_outliers = filtered_loan_data_no_missing.copy()\n",
    "for col in numerical_vars:\n",
    "    Q1 = filtered_loan_data_no_outliers[col].quantile(0.25)\n",
    "    Q3 = filtered_loan_data_no_outliers[col].quantile(0.75)\n",
    "    IQR = Q3 - Q1\n",
    "    filtered_loan_data_no_outliers = filtered_loan_data_no_outliers[(filtered_loan_data_no_outliers[col] >= (Q1-1.5*IQR)) & (filtered_loan_data_no_outliers[col] <= (Q3+1.5*IQR))] "
   ]
  },
  {
   "cell_type": "code",
   "execution_count": 26,
   "metadata": {},
   "outputs": [
    {
     "data": {
      "text/plain": [
       "(1886933, 11)"
      ]
     },
     "execution_count": 26,
     "metadata": {},
     "output_type": "execute_result"
    }
   ],
   "source": [
    "# removing outliers\n",
    "filtered_loan_data_no_outliers.shape[0]"
   ]
  },
  {
   "cell_type": "code",
   "execution_count": 29,
   "metadata": {},
   "outputs": [
    {
     "data": {
      "text/plain": [
       "16.468691469012413"
      ]
     },
     "execution_count": 29,
     "metadata": {},
     "output_type": "execute_result"
    }
   ],
   "source": [
    "# droping observations with outliers removes ~ 16% of the data\n",
    "(filtered_loan_data_no_missing.shape[0] - filtered_loan_data_no_outliers.shape[0]) / filtered_loan_data_no_missing.shape[0] * 100"
   ]
  },
  {
   "cell_type": "markdown",
   "metadata": {},
   "source": [
    "#### Data Cleaning Step 1: Coding categorical variables as dummy variables for analysis"
   ]
  },
  {
   "cell_type": "code",
   "execution_count": 6,
   "metadata": {},
   "outputs": [
    {
     "data": {
      "text/html": [
       "<div>\n",
       "<style>\n",
       "    .dataframe thead tr:only-child th {\n",
       "        text-align: right;\n",
       "    }\n",
       "\n",
       "    .dataframe thead th {\n",
       "        text-align: left;\n",
       "    }\n",
       "\n",
       "    .dataframe tbody tr th {\n",
       "        vertical-align: top;\n",
       "    }\n",
       "</style>\n",
       "<table border=\"1\" class=\"dataframe\">\n",
       "  <thead>\n",
       "    <tr style=\"text-align: right;\">\n",
       "      <th></th>\n",
       "      <th>loan_amnt</th>\n",
       "      <th>funded_amnt</th>\n",
       "      <th>term</th>\n",
       "      <th>int_rate</th>\n",
       "      <th>grade</th>\n",
       "      <th>annual_inc</th>\n",
       "      <th>issue_d</th>\n",
       "      <th>dti</th>\n",
       "      <th>revol_bal</th>\n",
       "      <th>total_pymnt</th>\n",
       "      <th>loan_status</th>\n",
       "    </tr>\n",
       "  </thead>\n",
       "  <tbody>\n",
       "    <tr>\n",
       "      <th>0</th>\n",
       "      <td>2500</td>\n",
       "      <td>2500</td>\n",
       "      <td>36 months</td>\n",
       "      <td>13.56</td>\n",
       "      <td>C</td>\n",
       "      <td>55000.0</td>\n",
       "      <td>Dec-2018</td>\n",
       "      <td>18.24</td>\n",
       "      <td>4341</td>\n",
       "      <td>167.02</td>\n",
       "      <td>Current</td>\n",
       "    </tr>\n",
       "    <tr>\n",
       "      <th>1</th>\n",
       "      <td>30000</td>\n",
       "      <td>30000</td>\n",
       "      <td>60 months</td>\n",
       "      <td>18.94</td>\n",
       "      <td>D</td>\n",
       "      <td>90000.0</td>\n",
       "      <td>Dec-2018</td>\n",
       "      <td>26.52</td>\n",
       "      <td>12315</td>\n",
       "      <td>1507.11</td>\n",
       "      <td>Current</td>\n",
       "    </tr>\n",
       "    <tr>\n",
       "      <th>2</th>\n",
       "      <td>5000</td>\n",
       "      <td>5000</td>\n",
       "      <td>36 months</td>\n",
       "      <td>17.97</td>\n",
       "      <td>D</td>\n",
       "      <td>59280.0</td>\n",
       "      <td>Dec-2018</td>\n",
       "      <td>10.51</td>\n",
       "      <td>4599</td>\n",
       "      <td>353.89</td>\n",
       "      <td>Current</td>\n",
       "    </tr>\n",
       "    <tr>\n",
       "      <th>3</th>\n",
       "      <td>4000</td>\n",
       "      <td>4000</td>\n",
       "      <td>36 months</td>\n",
       "      <td>18.94</td>\n",
       "      <td>D</td>\n",
       "      <td>92000.0</td>\n",
       "      <td>Dec-2018</td>\n",
       "      <td>16.74</td>\n",
       "      <td>5468</td>\n",
       "      <td>286.71</td>\n",
       "      <td>Current</td>\n",
       "    </tr>\n",
       "    <tr>\n",
       "      <th>4</th>\n",
       "      <td>30000</td>\n",
       "      <td>30000</td>\n",
       "      <td>60 months</td>\n",
       "      <td>16.14</td>\n",
       "      <td>C</td>\n",
       "      <td>57250.0</td>\n",
       "      <td>Dec-2018</td>\n",
       "      <td>26.35</td>\n",
       "      <td>829</td>\n",
       "      <td>1423.21</td>\n",
       "      <td>Current</td>\n",
       "    </tr>\n",
       "  </tbody>\n",
       "</table>\n",
       "</div>"
      ],
      "text/plain": [
       "   loan_amnt  funded_amnt        term  int_rate grade  annual_inc   issue_d  \\\n",
       "0       2500         2500   36 months     13.56     C     55000.0  Dec-2018   \n",
       "1      30000        30000   60 months     18.94     D     90000.0  Dec-2018   \n",
       "2       5000         5000   36 months     17.97     D     59280.0  Dec-2018   \n",
       "3       4000         4000   36 months     18.94     D     92000.0  Dec-2018   \n",
       "4      30000        30000   60 months     16.14     C     57250.0  Dec-2018   \n",
       "\n",
       "     dti  revol_bal  total_pymnt loan_status  \n",
       "0  18.24       4341       167.02     Current  \n",
       "1  26.52      12315      1507.11     Current  \n",
       "2  10.51       4599       353.89     Current  \n",
       "3  16.74       5468       286.71     Current  \n",
       "4  26.35        829      1423.21     Current  "
      ]
     },
     "execution_count": 6,
     "metadata": {},
     "output_type": "execute_result"
    }
   ],
   "source": [
    "# preview filtered data\n",
    "filtered_loan_data.head()"
   ]
  },
  {
   "cell_type": "code",
   "execution_count": 23,
   "metadata": {},
   "outputs": [
    {
     "data": {
      "text/plain": [
       "['grade', 'issue_d', 'loan_status', 'term']"
      ]
     },
     "execution_count": 23,
     "metadata": {},
     "output_type": "execute_result"
    }
   ],
   "source": [
    "# identify categorical variables\n",
    "categorical_columns = list(filtered_loan_data.columns.difference(filtered_loan_data._get_numeric_data().columns.values))\n",
    "categorical_columns"
   ]
  },
  {
   "cell_type": "code",
   "execution_count": null,
   "metadata": {
    "collapsed": true
   },
   "outputs": [],
   "source": []
  },
  {
   "cell_type": "code",
   "execution_count": 15,
   "metadata": {},
   "outputs": [
    {
     "ename": "TypeError",
     "evalue": "bad operand type for unary ~: 'str'",
     "output_type": "error",
     "traceback": [
      "\u001b[1;31m---------------------------------------------------------------------------\u001b[0m",
      "\u001b[1;31mTypeError\u001b[0m                                 Traceback (most recent call last)",
      "\u001b[1;32m<ipython-input-15-767575e0da38>\u001b[0m in \u001b[0;36m<module>\u001b[1;34m()\u001b[0m\n\u001b[1;32m----> 1\u001b[1;33m \u001b[1;33m~\u001b[0m\u001b[0mfiltered_loan_data\u001b[0m\u001b[1;33m.\u001b[0m\u001b[0m_get_numeric_data\u001b[0m\u001b[1;33m(\u001b[0m\u001b[1;33m)\u001b[0m\u001b[1;33m.\u001b[0m\u001b[0mcolumns\u001b[0m\u001b[1;33m.\u001b[0m\u001b[0mvalues\u001b[0m\u001b[1;33m\u001b[0m\u001b[0m\n\u001b[0m",
      "\u001b[1;31mTypeError\u001b[0m: bad operand type for unary ~: 'str'"
     ]
    }
   ],
   "source": [
    "filtered_loan_data._get_numeric_data().columns.values"
   ]
  },
  {
   "cell_type": "markdown",
   "metadata": {},
   "source": []
  },
  {
   "cell_type": "code",
   "execution_count": 10,
   "metadata": {},
   "outputs": [
    {
     "data": {
      "text/html": [
       "<div>\n",
       "<style>\n",
       "    .dataframe thead tr:only-child th {\n",
       "        text-align: right;\n",
       "    }\n",
       "\n",
       "    .dataframe thead th {\n",
       "        text-align: left;\n",
       "    }\n",
       "\n",
       "    .dataframe tbody tr th {\n",
       "        vertical-align: top;\n",
       "    }\n",
       "</style>\n",
       "<table border=\"1\" class=\"dataframe\">\n",
       "  <thead>\n",
       "    <tr style=\"text-align: right;\">\n",
       "      <th></th>\n",
       "      <th>loan_amnt</th>\n",
       "      <th>funded_amnt</th>\n",
       "      <th>int_rate</th>\n",
       "      <th>annual_inc</th>\n",
       "      <th>dti</th>\n",
       "      <th>revol_bal</th>\n",
       "      <th>total_pymnt</th>\n",
       "    </tr>\n",
       "  </thead>\n",
       "  <tbody>\n",
       "    <tr>\n",
       "      <th>count</th>\n",
       "      <td>2.26067e+06</td>\n",
       "      <td>2.26067e+06</td>\n",
       "      <td>2.26067e+06</td>\n",
       "      <td>2.26066e+06</td>\n",
       "      <td>2.25896e+06</td>\n",
       "      <td>2.26067e+06</td>\n",
       "      <td>2.26067e+06</td>\n",
       "    </tr>\n",
       "    <tr>\n",
       "      <th>mean</th>\n",
       "      <td>15046.9</td>\n",
       "      <td>15041.7</td>\n",
       "      <td>13.0929</td>\n",
       "      <td>77992.4</td>\n",
       "      <td>18.8242</td>\n",
       "      <td>16658.5</td>\n",
       "      <td>11824</td>\n",
       "    </tr>\n",
       "    <tr>\n",
       "      <th>std</th>\n",
       "      <td>9190.25</td>\n",
       "      <td>9188.41</td>\n",
       "      <td>4.83211</td>\n",
       "      <td>112696</td>\n",
       "      <td>14.1833</td>\n",
       "      <td>22948.3</td>\n",
       "      <td>9889.6</td>\n",
       "    </tr>\n",
       "    <tr>\n",
       "      <th>min</th>\n",
       "      <td>500</td>\n",
       "      <td>500</td>\n",
       "      <td>5.31</td>\n",
       "      <td>0</td>\n",
       "      <td>-1</td>\n",
       "      <td>0</td>\n",
       "      <td>0</td>\n",
       "    </tr>\n",
       "    <tr>\n",
       "      <th>25%</th>\n",
       "      <td>8000</td>\n",
       "      <td>8000</td>\n",
       "      <td>9.49</td>\n",
       "      <td>46000</td>\n",
       "      <td>11.89</td>\n",
       "      <td>5950</td>\n",
       "      <td>4272.58</td>\n",
       "    </tr>\n",
       "    <tr>\n",
       "      <th>50%</th>\n",
       "      <td>12900</td>\n",
       "      <td>12875</td>\n",
       "      <td>12.62</td>\n",
       "      <td>65000</td>\n",
       "      <td>17.84</td>\n",
       "      <td>11324</td>\n",
       "      <td>9060.87</td>\n",
       "    </tr>\n",
       "    <tr>\n",
       "      <th>75%</th>\n",
       "      <td>20000</td>\n",
       "      <td>20000</td>\n",
       "      <td>15.99</td>\n",
       "      <td>93000</td>\n",
       "      <td>24.49</td>\n",
       "      <td>20246</td>\n",
       "      <td>16708</td>\n",
       "    </tr>\n",
       "    <tr>\n",
       "      <th>max</th>\n",
       "      <td>40000</td>\n",
       "      <td>40000</td>\n",
       "      <td>30.99</td>\n",
       "      <td>1.1e+08</td>\n",
       "      <td>999</td>\n",
       "      <td>2.90484e+06</td>\n",
       "      <td>63296.9</td>\n",
       "    </tr>\n",
       "  </tbody>\n",
       "</table>\n",
       "</div>"
      ],
      "text/plain": [
       "         loan_amnt  funded_amnt     int_rate   annual_inc          dti  \\\n",
       "count  2.26067e+06  2.26067e+06  2.26067e+06  2.26066e+06  2.25896e+06   \n",
       "mean       15046.9      15041.7      13.0929      77992.4      18.8242   \n",
       "std        9190.25      9188.41      4.83211       112696      14.1833   \n",
       "min            500          500         5.31            0           -1   \n",
       "25%           8000         8000         9.49        46000        11.89   \n",
       "50%          12900        12875        12.62        65000        17.84   \n",
       "75%          20000        20000        15.99        93000        24.49   \n",
       "max          40000        40000        30.99      1.1e+08          999   \n",
       "\n",
       "         revol_bal  total_pymnt  \n",
       "count  2.26067e+06  2.26067e+06  \n",
       "mean       16658.5        11824  \n",
       "std        22948.3       9889.6  \n",
       "min              0            0  \n",
       "25%           5950      4272.58  \n",
       "50%          11324      9060.87  \n",
       "75%          20246        16708  \n",
       "max    2.90484e+06      63296.9  "
      ]
     },
     "execution_count": 10,
     "metadata": {},
     "output_type": "execute_result"
    }
   ],
   "source": [
    "# quick summary statistics\n",
    "filtered_loan_data.describe().apply(lambda s: s.apply(lambda x: format(x, 'g')))"
   ]
  },
  {
   "cell_type": "code",
   "execution_count": null,
   "metadata": {
    "collapsed": true
   },
   "outputs": [],
   "source": []
  }
 ],
 "metadata": {
  "kernelspec": {
   "display_name": "Python 3",
   "language": "python",
   "name": "python3"
  },
  "language_info": {
   "codemirror_mode": {
    "name": "ipython",
    "version": 3
   },
   "file_extension": ".py",
   "mimetype": "text/x-python",
   "name": "python",
   "nbconvert_exporter": "python",
   "pygments_lexer": "ipython3",
   "version": "3.6.6"
  }
 },
 "nbformat": 4,
 "nbformat_minor": 2
}
